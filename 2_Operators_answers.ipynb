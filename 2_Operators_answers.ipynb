{
 "cells": [
  {
   "cell_type": "code",
   "execution_count": 4,
   "metadata": {},
   "outputs": [
    {
     "name": "stdout",
     "output_type": "stream",
     "text": [
      "15\n",
      "5\n",
      "2\n",
      "0\n"
     ]
    }
   ],
   "source": [
    "# 1 .Question | Write a program to print 15,5,2 and 0 ,use the approriate operator\n",
    "\n",
    "a = 10\n",
    "b = 5\n",
    "\n",
    "# Your Answer\n",
    "print(a+b)\n",
    "print(b)\n",
    "print(a//b)\n",
    "print(a-b*2)\n",
    "\n",
    "\n",
    "\n",
    "\n",
    "\n"
   ]
  },
  {
   "cell_type": "code",
   "execution_count": 1,
   "metadata": {},
   "outputs": [
    {
     "name": "stdout",
     "output_type": "stream",
     "text": [
      "9\n"
     ]
    }
   ],
   "source": [
    "# 2 .Question | write a code to print 9 , use the approriate operator\n",
    "a = 3\n",
    "b = 2\n",
    "\n",
    "# Your Answer\n",
    "print(a**b)"
   ]
  },
  {
   "cell_type": "code",
   "execution_count": 2,
   "metadata": {},
   "outputs": [
    {
     "name": "stdout",
     "output_type": "stream",
     "text": [
      "2\n",
      "2.25\n",
      "1\n"
     ]
    }
   ],
   "source": [
    "# 4 .Question | # write a code to print 2 , 2.25 and 1 , use the approriate operator\n",
    "\n",
    "x = 9\n",
    "y = 4\n",
    "\n",
    "# Your Answer\n",
    "\n",
    "print(x//y)\n",
    "print(x/y)\n",
    "print(x-y*2)\n",
    "\n",
    "\n"
   ]
  },
  {
   "cell_type": "code",
   "execution_count": 11,
   "metadata": {},
   "outputs": [
    {
     "name": "stdout",
     "output_type": "stream",
     "text": [
      "True\n"
     ]
    }
   ],
   "source": [
    "# 5 .Question |  # write a code print True ,use the approriate operator\n",
    "\n",
    "a = 10\n",
    "b = 5\n",
    "\n",
    "# Your Answer\n",
    "if a==10 and b==5:\n",
    "    print(\"True\")\n",
    "    \n",
    "\n",
    "\n",
    "\n"
   ]
  },
  {
   "cell_type": "code",
   "execution_count": 12,
   "metadata": {},
   "outputs": [
    {
     "name": "stdout",
     "output_type": "stream",
     "text": [
      "flase\n"
     ]
    }
   ],
   "source": [
    "# 5 .Question | # # write a code print Fale\n",
    "\n",
    "a = 15\n",
    "b = 15 \n",
    "\n",
    "# Your Answer\n",
    "if a==15 & b==15:\n",
    "    print(\"flase\")\n",
    "\n",
    "\n",
    "\n"
   ]
  },
  {
   "cell_type": "code",
   "execution_count": 13,
   "metadata": {},
   "outputs": [
    {
     "name": "stdout",
     "output_type": "stream",
     "text": [
      "true\n"
     ]
    }
   ],
   "source": [
    "# 6 .Question | # # write a code print True\n",
    "\n",
    "a = 24\n",
    "b = 24\n",
    "\n",
    "# Your Answer\n",
    "if a==24 &b==24:\n",
    "    print(\"true\")\n",
    "\n",
    "\n",
    "\n",
    "\n"
   ]
  },
  {
   "cell_type": "code",
   "execution_count": 18,
   "metadata": {},
   "outputs": [
    {
     "name": "stdout",
     "output_type": "stream",
     "text": [
      "true\n"
     ]
    }
   ],
   "source": [
    "# 7 .Question | # # write a code print True\n",
    "\n",
    "a = \"python\"\n",
    "b = \"python\"\n",
    "\n",
    "# Your Answer\n",
    "if a==b:\n",
    "    print(\"true\")\n",
    "\n",
    "\n"
   ]
  },
  {
   "cell_type": "code",
   "execution_count": 23,
   "metadata": {},
   "outputs": [
    {
     "name": "stdout",
     "output_type": "stream",
     "text": [
      "flase\n"
     ]
    }
   ],
   "source": [
    "# 8 .Question | #  write a code print false using and operator\n",
    "\n",
    "a = 10 \n",
    "b = 20\n",
    "\n",
    "# Your Answer\n",
    "if a==10 and b==20:\n",
    "    print(\"flase\") \n",
    "\n",
    "\n",
    "\n"
   ]
  },
  {
   "cell_type": "code",
   "execution_count": 24,
   "metadata": {},
   "outputs": [
    {
     "name": "stdout",
     "output_type": "stream",
     "text": [
      "true\n"
     ]
    }
   ],
   "source": [
    "# 9 .Question | #  write a code print True using or operator\n",
    "\n",
    "a = 20\n",
    "b = 10 \n",
    "\n",
    "# Your Answer\n",
    "if a==20 or b==10:\n",
    "    print(\"true\")\n",
    "\n",
    "\n",
    "\n",
    "\n",
    "\n"
   ]
  },
  {
   "cell_type": "code",
   "execution_count": 35,
   "metadata": {},
   "outputs": [
    {
     "name": "stdout",
     "output_type": "stream",
     "text": [
      "True\n"
     ]
    }
   ],
   "source": [
    "# 10 .Question | #  write a code print True using Not operator\n",
    "\n",
    "a = 20\n",
    "b = 10 \n",
    "\n",
    "# Your Answer\n",
    "print(not(a!=20 and b==10))\n",
    "\n",
    "\n",
    "\n"
   ]
  },
  {
   "cell_type": "code",
   "execution_count": null,
   "metadata": {},
   "outputs": [],
   "source": []
  },
  {
   "cell_type": "code",
   "execution_count": null,
   "metadata": {},
   "outputs": [],
   "source": []
  },
  {
   "cell_type": "code",
   "execution_count": null,
   "metadata": {},
   "outputs": [],
   "source": []
  }
 ],
 "metadata": {
  "kernelspec": {
   "display_name": "Python 3 (ipykernel)",
   "language": "python",
   "name": "python3"
  },
  "language_info": {
   "codemirror_mode": {
    "name": "ipython",
    "version": 3
   },
   "file_extension": ".py",
   "mimetype": "text/x-python",
   "name": "python",
   "nbconvert_exporter": "python",
   "pygments_lexer": "ipython3",
   "version": "3.10.9"
  }
 },
 "nbformat": 4,
 "nbformat_minor": 2
}
